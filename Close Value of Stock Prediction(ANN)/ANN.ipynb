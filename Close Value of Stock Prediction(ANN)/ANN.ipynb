{
 "cells": [
  {
   "cell_type": "code",
   "execution_count": 52,
   "metadata": {},
   "outputs": [
    {
     "name": "stderr",
     "output_type": "stream",
     "text": [
      "<ipython-input-52-6026ee93bb33>:6: FutureWarning: The pandas.datetime class is deprecated and will be removed from pandas in a future version. Import from datetime module instead.\n",
      "  from pandas import datetime\n"
     ]
    }
   ],
   "source": [
    "# Importing Libraries\n",
    "\n",
    "import numpy as np\n",
    "import matplotlib.pyplot as plt\n",
    "import pandas as pd\n",
    "from pandas import datetime\n",
    "import math\n",
    "from math import sqrt\n",
    "from keras.models import Sequential\n",
    "from keras.layers.core import Dense, Dropout, Activation"
   ]
  },
  {
   "cell_type": "code",
   "execution_count": 53,
   "metadata": {},
   "outputs": [
    {
     "data": {
      "text/html": [
       "<div>\n",
       "<style scoped>\n",
       "    .dataframe tbody tr th:only-of-type {\n",
       "        vertical-align: middle;\n",
       "    }\n",
       "\n",
       "    .dataframe tbody tr th {\n",
       "        vertical-align: top;\n",
       "    }\n",
       "\n",
       "    .dataframe thead th {\n",
       "        text-align: right;\n",
       "    }\n",
       "</style>\n",
       "<table border=\"1\" class=\"dataframe\">\n",
       "  <thead>\n",
       "    <tr style=\"text-align: right;\">\n",
       "      <th></th>\n",
       "      <th>Date</th>\n",
       "      <th>Open</th>\n",
       "      <th>High</th>\n",
       "      <th>Low</th>\n",
       "      <th>Close</th>\n",
       "      <th>Adj Close</th>\n",
       "      <th>Volume</th>\n",
       "    </tr>\n",
       "  </thead>\n",
       "  <tbody>\n",
       "    <tr>\n",
       "      <th>0</th>\n",
       "      <td>2010-08-27</td>\n",
       "      <td>9982.179688</td>\n",
       "      <td>10159.879883</td>\n",
       "      <td>9936.620117</td>\n",
       "      <td>10150.650391</td>\n",
       "      <td>10150.650391</td>\n",
       "      <td>207760000</td>\n",
       "    </tr>\n",
       "    <tr>\n",
       "      <th>1</th>\n",
       "      <td>2010-08-30</td>\n",
       "      <td>10145.580078</td>\n",
       "      <td>10150.570313</td>\n",
       "      <td>10007.679688</td>\n",
       "      <td>10009.730469</td>\n",
       "      <td>10009.730469</td>\n",
       "      <td>150480000</td>\n",
       "    </tr>\n",
       "    <tr>\n",
       "      <th>2</th>\n",
       "      <td>2010-08-31</td>\n",
       "      <td>10006.419922</td>\n",
       "      <td>10073.379883</td>\n",
       "      <td>9941.839844</td>\n",
       "      <td>10014.719727</td>\n",
       "      <td>10014.719727</td>\n",
       "      <td>255420000</td>\n",
       "    </tr>\n",
       "    <tr>\n",
       "      <th>3</th>\n",
       "      <td>2010-09-01</td>\n",
       "      <td>10016.009766</td>\n",
       "      <td>10279.080078</td>\n",
       "      <td>10016.009766</td>\n",
       "      <td>10269.469727</td>\n",
       "      <td>10269.469727</td>\n",
       "      <td>205710000</td>\n",
       "    </tr>\n",
       "    <tr>\n",
       "      <th>4</th>\n",
       "      <td>2010-09-02</td>\n",
       "      <td>10270.080078</td>\n",
       "      <td>10320.370117</td>\n",
       "      <td>10253.959961</td>\n",
       "      <td>10320.099609</td>\n",
       "      <td>10320.099609</td>\n",
       "      <td>149930000</td>\n",
       "    </tr>\n",
       "  </tbody>\n",
       "</table>\n",
       "</div>"
      ],
      "text/plain": [
       "         Date          Open          High           Low         Close  \\\n",
       "0  2010-08-27   9982.179688  10159.879883   9936.620117  10150.650391   \n",
       "1  2010-08-30  10145.580078  10150.570313  10007.679688  10009.730469   \n",
       "2  2010-08-31  10006.419922  10073.379883   9941.839844  10014.719727   \n",
       "3  2010-09-01  10016.009766  10279.080078  10016.009766  10269.469727   \n",
       "4  2010-09-02  10270.080078  10320.370117  10253.959961  10320.099609   \n",
       "\n",
       "      Adj Close     Volume  \n",
       "0  10150.650391  207760000  \n",
       "1  10009.730469  150480000  \n",
       "2  10014.719727  255420000  \n",
       "3  10269.469727  205710000  \n",
       "4  10320.099609  149930000  "
      ]
     },
     "execution_count": 53,
     "metadata": {},
     "output_type": "execute_result"
    }
   ],
   "source": [
    "df = pd.read_csv(\"Dataset/data.csv\")\n",
    "df.head()"
   ]
  },
  {
   "cell_type": "code",
   "execution_count": 54,
   "metadata": {},
   "outputs": [
    {
     "data": {
      "text/html": [
       "<div>\n",
       "<style scoped>\n",
       "    .dataframe tbody tr th:only-of-type {\n",
       "        vertical-align: middle;\n",
       "    }\n",
       "\n",
       "    .dataframe tbody tr th {\n",
       "        vertical-align: top;\n",
       "    }\n",
       "\n",
       "    .dataframe thead th {\n",
       "        text-align: right;\n",
       "    }\n",
       "</style>\n",
       "<table border=\"1\" class=\"dataframe\">\n",
       "  <thead>\n",
       "    <tr style=\"text-align: right;\">\n",
       "      <th></th>\n",
       "      <th>Open</th>\n",
       "      <th>High</th>\n",
       "      <th>Close</th>\n",
       "      <th>Volume</th>\n",
       "    </tr>\n",
       "  </thead>\n",
       "  <tbody>\n",
       "    <tr>\n",
       "      <th>0</th>\n",
       "      <td>9982.179688</td>\n",
       "      <td>10159.879883</td>\n",
       "      <td>10150.650391</td>\n",
       "      <td>207760000</td>\n",
       "    </tr>\n",
       "    <tr>\n",
       "      <th>1</th>\n",
       "      <td>10145.580078</td>\n",
       "      <td>10150.570313</td>\n",
       "      <td>10009.730469</td>\n",
       "      <td>150480000</td>\n",
       "    </tr>\n",
       "    <tr>\n",
       "      <th>2</th>\n",
       "      <td>10006.419922</td>\n",
       "      <td>10073.379883</td>\n",
       "      <td>10014.719727</td>\n",
       "      <td>255420000</td>\n",
       "    </tr>\n",
       "    <tr>\n",
       "      <th>3</th>\n",
       "      <td>10016.009766</td>\n",
       "      <td>10279.080078</td>\n",
       "      <td>10269.469727</td>\n",
       "      <td>205710000</td>\n",
       "    </tr>\n",
       "    <tr>\n",
       "      <th>4</th>\n",
       "      <td>10270.080078</td>\n",
       "      <td>10320.370117</td>\n",
       "      <td>10320.099609</td>\n",
       "      <td>149930000</td>\n",
       "    </tr>\n",
       "  </tbody>\n",
       "</table>\n",
       "</div>"
      ],
      "text/plain": [
       "           Open          High         Close     Volume\n",
       "0   9982.179688  10159.879883  10150.650391  207760000\n",
       "1  10145.580078  10150.570313  10009.730469  150480000\n",
       "2  10006.419922  10073.379883  10014.719727  255420000\n",
       "3  10016.009766  10279.080078  10269.469727  205710000\n",
       "4  10270.080078  10320.370117  10320.099609  149930000"
      ]
     },
     "execution_count": 54,
     "metadata": {},
     "output_type": "execute_result"
    }
   ],
   "source": [
    "df.drop([\"Date\", \"Low\", \"Adj Close\"], axis=1, inplace=True)\n",
    "df.head()"
   ]
  },
  {
   "cell_type": "markdown",
   "metadata": {},
   "source": [
    "### Normalizing and removing the null data points"
   ]
  },
  {
   "cell_type": "code",
   "execution_count": 55,
   "metadata": {},
   "outputs": [
    {
     "name": "stdout",
     "output_type": "stream",
     "text": [
      "          Open      High     Close   Volume\n",
      "0     0.998218  0.101599  0.101507  0.20776\n",
      "1     1.014558  0.101506  0.100097  0.15048\n",
      "2     1.000642  0.100734  0.100147  0.25542\n",
      "3     1.001601  0.102791  0.102695  0.20571\n",
      "4     1.027008  0.103204  0.103201  0.14993\n",
      "...        ...       ...       ...      ...\n",
      "2009  2.578699  0.258888  0.258223  0.24162\n",
      "2010  2.582506  0.258362  0.257336  0.20048\n",
      "2011  2.571486  0.257626  0.256570  0.21327\n",
      "2012  2.568858  0.258261  0.257903  0.20033\n",
      "2013  2.588271  0.260676  0.260496  0.22051\n",
      "\n",
      "[2014 rows x 4 columns]\n"
     ]
    }
   ],
   "source": [
    "df['Open'] = df['Open']/10000\n",
    "df['High'] = df['High']/100000\n",
    "df['Volume'] = df['Volume']/1000000000\n",
    "df['Close'] = df['Close']/100000\n",
    "print(df)\n",
    "\n",
    "nan_value_index = []\n",
    "High = df.High.isnull()\n",
    "for i in range(0, len(High)):\n",
    "    if High[i] == 1:\n",
    "        nan_value_index.append(i)\n",
    "        df[\"High\"][i] = 0\n",
    "        \n",
    "Open = df.Open.isnull()\n",
    "for i in range(0, len(Open)):\n",
    "    if Open[i] == 1:\n",
    "        nan_value_index.append(i)\n",
    "        df['Open'][i] = 0\n",
    "\n",
    "Volume = df.Volume.isnull()\n",
    "for i in range(0, len(Volume)):\n",
    "    if Volume[i] == 1:\n",
    "        nan_value_index.append(i)\n",
    "        df['Volume'][i] = 0\n",
    "\n",
    "Close = df.Close.isnull()\n",
    "for i in range(0, len(Close)):\n",
    "    if Close[i] == 1:\n",
    "        nan_value_index.append(i)\n",
    "        df['Close'][i] = 0"
   ]
  },
  {
   "cell_type": "code",
   "execution_count": 56,
   "metadata": {},
   "outputs": [],
   "source": [
    "X = df[[\"High\", \"Open\", \"Volume\"]]\n",
    "Y = df[[\"Close\"]]\n",
    "factor = 0.80\n",
    "length = X.shape[0]\n",
    "total_for_train = int(length*factor)\n",
    "\n",
    "X_train = X[:total_for_train]\n",
    "Y_train = Y[:total_for_train]\n",
    "X_test = X[total_for_train:]\n",
    "Y_test = Y[total_for_train:]"
   ]
  },
  {
   "cell_type": "code",
   "execution_count": 57,
   "metadata": {},
   "outputs": [
    {
     "name": "stdout",
     "output_type": "stream",
     "text": [
      "X_train (1611, 3)\n",
      "y_train (1611, 1)\n",
      "X_test (403, 3)\n",
      "y_test (403, 1)\n"
     ]
    }
   ],
   "source": [
    "print(\"X_train\", X_train.shape)\n",
    "print(\"y_train\", Y_train.shape)\n",
    "print(\"X_test\", X_test.shape)\n",
    "print(\"y_test\", Y_test.shape)"
   ]
  },
  {
   "cell_type": "markdown",
   "metadata": {},
   "source": [
    "### Compiling and training the neural network model"
   ]
  },
  {
   "cell_type": "code",
   "execution_count": 59,
   "metadata": {},
   "outputs": [
    {
     "name": "stdout",
     "output_type": "stream",
     "text": [
      "Epoch 1/10\n",
      "12/12 [==============================] - 0s 12ms/step - loss: 0.0220 - val_loss: 0.0313\n",
      "Epoch 2/10\n",
      "12/12 [==============================] - 0s 3ms/step - loss: 0.0184 - val_loss: 0.0260\n",
      "Epoch 3/10\n",
      "12/12 [==============================] - 0s 3ms/step - loss: 0.0143 - val_loss: 0.0195\n",
      "Epoch 4/10\n",
      "12/12 [==============================] - 0s 3ms/step - loss: 0.0095 - val_loss: 0.0114\n",
      "Epoch 5/10\n",
      "12/12 [==============================] - 0s 3ms/step - loss: 0.0042 - val_loss: 0.0036\n",
      "Epoch 6/10\n",
      "12/12 [==============================] - 0s 3ms/step - loss: 8.2868e-04 - val_loss: 2.1782e-04\n",
      "Epoch 7/10\n",
      "12/12 [==============================] - 0s 3ms/step - loss: 4.2686e-04 - val_loss: 1.7079e-04\n",
      "Epoch 8/10\n",
      "12/12 [==============================] - 0s 3ms/step - loss: 3.4751e-04 - val_loss: 7.2146e-04\n",
      "Epoch 9/10\n",
      "12/12 [==============================] - 0s 3ms/step - loss: 2.8933e-04 - val_loss: 7.9161e-04\n",
      "Epoch 10/10\n",
      "12/12 [==============================] - 0s 3ms/step - loss: 2.7152e-04 - val_loss: 5.7694e-04\n"
     ]
    },
    {
     "data": {
      "text/plain": [
       "<tensorflow.python.keras.callbacks.History at 0x124cb1f5670>"
      ]
     },
     "execution_count": 59,
     "metadata": {},
     "output_type": "execute_result"
    }
   ],
   "source": [
    "classifier = Sequential()\n",
    "classifier.add(Dense(units =32, kernel_initializer = \"uniform\", activation = \"relu\", input_dim = 3))\n",
    "classifier.add(Dense(units = 10, kernel_initializer = \"uniform\", activation = \"relu\"))\n",
    "classifier.add(Dense(units = 1, kernel_initializer = \"uniform\", activation = \"linear\"))\n",
    "\n",
    "classifier.compile(optimizer = \"adam\", loss = \"mean_squared_error\", metrics = [])\n",
    "classifier.fit(X_train, Y_train, batch_size =128, epochs = 10, validation_split = 0.05)"
   ]
  },
  {
   "cell_type": "code",
   "execution_count": 60,
   "metadata": {},
   "outputs": [
    {
     "name": "stdout",
     "output_type": "stream",
     "text": [
      "[[0.17152698]\n",
      " [0.17238928]\n",
      " [0.17302176]\n",
      " [0.1730234 ]\n",
      " [0.17287025]\n",
      " [0.17215891]\n",
      " [0.17274584]\n",
      " [0.17371471]\n",
      " [0.17211041]\n",
      " [0.17243718]]\n"
     ]
    }
   ],
   "source": [
    "predictions = classifier.predict(X_test)\n",
    "print(predictions[:10])"
   ]
  },
  {
   "cell_type": "markdown",
   "metadata": {},
   "source": [
    "### Calculating the error in the trained Neural Network model"
   ]
  },
  {
   "cell_type": "code",
   "execution_count": 61,
   "metadata": {},
   "outputs": [
    {
     "name": "stdout",
     "output_type": "stream",
     "text": [
      "Train Score: 0.00 MSE (0.02 RMSE)\n",
      "Test Score: 0.00 MSE (0.05 RMSE)\n"
     ]
    }
   ],
   "source": [
    "trainScore = classifier.evaluate(X_train, Y_train, verbose=0)\n",
    "print(\"Train Score: %.2f MSE (%.2f RMSE)\"% (trainScore, math.sqrt(trainScore)))\n",
    "\n",
    "testScore = classifier.evaluate(X_test, Y_test, verbose=0)\n",
    "print(\"Test Score: %.2f MSE (%.2f RMSE)\"% (testScore, math.sqrt(testScore)))"
   ]
  },
  {
   "cell_type": "markdown",
   "metadata": {},
   "source": [
    "### Predictions vs Real results"
   ]
  },
  {
   "cell_type": "code",
   "execution_count": 62,
   "metadata": {},
   "outputs": [
    {
     "data": {
      "image/png": "[encoded data removed]",
      "text/plain": [
       "<Figure size 432x288 with 1 Axes>"
      ]
     },
     "metadata": {
      "needs_background": "light"
     },
     "output_type": "display_data"
    },
    {
     "data": {
      "image/png": "[encoded data removed]",
      "text/plain": [
       "<Figure size 432x288 with 1 Axes>"
      ]
     },
     "metadata": {
      "needs_background": "light"
     },
     "output_type": "display_data"
    }
   ],
   "source": [
    "import matplotlib.pyplot as plt\n",
    "plt.plot(predictions,color='red', label='Predictions from the trained model')\n",
    "plt.legend(loc='upper left')\n",
    "plt.show()\n",
    "plt.plot(Y_test,color='blue', label='Read values for the stock')\n",
    "plt.legend(loc='upper left')\n",
    "plt.show()"
   ]
  },
  {
   "cell_type": "code",
   "execution_count": null,
   "metadata": {},
   "outputs": [],
   "source": []
  }
 ],
 "metadata": {
  "kernelspec": {
   "display_name": "Python 3",
   "language": "python",
   "name": "python3"
  },
  "language_info": {
   "codemirror_mode": {
    "name": "ipython",
    "version": 3
   },
   "file_extension": ".py",
   "mimetype": "text/x-python",
   "name": "python",
   "nbconvert_exporter": "python",
   "pygments_lexer": "ipython3",
   "version": "3.8.5"
  }
 },
 "nbformat": 4,
 "nbformat_minor": 4
}
